{
 "cells": [
  {
   "cell_type": "code",
   "execution_count": 4,
   "metadata": {},
   "outputs": [],
   "source": [
    "import pandas as pd  \n",
    "import numpy as np\n",
    "from sklearn.model_selection import train_test_split \n",
    "from sklearn.linear_model import LinearRegression\n",
    "from sklearn.model_selection import cross_validate\n",
    "from sklearn.tree import DecisionTreeRegressor\n",
    "from sklearn import metrics\n",
    "import matplotlib.pyplot as plt"
   ]
  },
  {
   "cell_type": "code",
   "execution_count": 5,
   "metadata": {},
   "outputs": [
    {
     "data": {
      "text/html": [
       "<div>\n",
       "<style scoped>\n",
       "    .dataframe tbody tr th:only-of-type {\n",
       "        vertical-align: middle;\n",
       "    }\n",
       "\n",
       "    .dataframe tbody tr th {\n",
       "        vertical-align: top;\n",
       "    }\n",
       "\n",
       "    .dataframe thead th {\n",
       "        text-align: right;\n",
       "    }\n",
       "</style>\n",
       "<table border=\"1\" class=\"dataframe\">\n",
       "  <thead>\n",
       "    <tr style=\"text-align: right;\">\n",
       "      <th></th>\n",
       "      <th>district</th>\n",
       "      <th>land_shift_area</th>\n",
       "      <th>complete_year</th>\n",
       "      <th>building_shift_total_area</th>\n",
       "      <th>num_room</th>\n",
       "      <th>num_hall</th>\n",
       "      <th>num_toilet</th>\n",
       "      <th>num_partition</th>\n",
       "      <th>management_org</th>\n",
       "      <th>unit_ntd</th>\n",
       "      <th>carpark_shift_area</th>\n",
       "      <th>carpark_ntd</th>\n",
       "      <th>transaction_year</th>\n",
       "      <th>transaction_month</th>\n",
       "      <th>building_age</th>\n",
       "      <th>number_of_building</th>\n",
       "      <th>number_of_carpark</th>\n",
       "    </tr>\n",
       "  </thead>\n",
       "  <tbody>\n",
       "    <tr>\n",
       "      <th>0</th>\n",
       "      <td>10</td>\n",
       "      <td>4.00</td>\n",
       "      <td>0.000000</td>\n",
       "      <td>0.00</td>\n",
       "      <td>0</td>\n",
       "      <td>0</td>\n",
       "      <td>0</td>\n",
       "      <td>1</td>\n",
       "      <td>0</td>\n",
       "      <td>400000.000000</td>\n",
       "      <td>0.00</td>\n",
       "      <td>0</td>\n",
       "      <td>2019</td>\n",
       "      <td>10</td>\n",
       "      <td>2019.000000</td>\n",
       "      <td>0</td>\n",
       "      <td>0</td>\n",
       "    </tr>\n",
       "    <tr>\n",
       "      <th>1</th>\n",
       "      <td>1</td>\n",
       "      <td>40.75</td>\n",
       "      <td>62.062500</td>\n",
       "      <td>109.36</td>\n",
       "      <td>4</td>\n",
       "      <td>0</td>\n",
       "      <td>4</td>\n",
       "      <td>1</td>\n",
       "      <td>0</td>\n",
       "      <td>108357.717630</td>\n",
       "      <td>0.00</td>\n",
       "      <td>0</td>\n",
       "      <td>2019</td>\n",
       "      <td>10</td>\n",
       "      <td>1956.937500</td>\n",
       "      <td>1</td>\n",
       "      <td>0</td>\n",
       "    </tr>\n",
       "    <tr>\n",
       "      <th>2</th>\n",
       "      <td>1</td>\n",
       "      <td>33.81</td>\n",
       "      <td>69.000000</td>\n",
       "      <td>109.42</td>\n",
       "      <td>3</td>\n",
       "      <td>2</td>\n",
       "      <td>2</td>\n",
       "      <td>1</td>\n",
       "      <td>0</td>\n",
       "      <td>91390.970572</td>\n",
       "      <td>0.00</td>\n",
       "      <td>0</td>\n",
       "      <td>2019</td>\n",
       "      <td>10</td>\n",
       "      <td>1950.000000</td>\n",
       "      <td>1</td>\n",
       "      <td>0</td>\n",
       "    </tr>\n",
       "    <tr>\n",
       "      <th>3</th>\n",
       "      <td>1</td>\n",
       "      <td>32.19</td>\n",
       "      <td>84.000000</td>\n",
       "      <td>163.53</td>\n",
       "      <td>3</td>\n",
       "      <td>2</td>\n",
       "      <td>2</td>\n",
       "      <td>1</td>\n",
       "      <td>1</td>\n",
       "      <td>128416.804256</td>\n",
       "      <td>0.00</td>\n",
       "      <td>0</td>\n",
       "      <td>2019</td>\n",
       "      <td>4</td>\n",
       "      <td>1935.000000</td>\n",
       "      <td>1</td>\n",
       "      <td>1</td>\n",
       "    </tr>\n",
       "    <tr>\n",
       "      <th>4</th>\n",
       "      <td>1</td>\n",
       "      <td>60.25</td>\n",
       "      <td>108.000000</td>\n",
       "      <td>204.79</td>\n",
       "      <td>3</td>\n",
       "      <td>2</td>\n",
       "      <td>3</td>\n",
       "      <td>1</td>\n",
       "      <td>1</td>\n",
       "      <td>328157.624884</td>\n",
       "      <td>0.00</td>\n",
       "      <td>0</td>\n",
       "      <td>2019</td>\n",
       "      <td>10</td>\n",
       "      <td>1911.000000</td>\n",
       "      <td>1</td>\n",
       "      <td>0</td>\n",
       "    </tr>\n",
       "    <tr>\n",
       "      <th>...</th>\n",
       "      <td>...</td>\n",
       "      <td>...</td>\n",
       "      <td>...</td>\n",
       "      <td>...</td>\n",
       "      <td>...</td>\n",
       "      <td>...</td>\n",
       "      <td>...</td>\n",
       "      <td>...</td>\n",
       "      <td>...</td>\n",
       "      <td>...</td>\n",
       "      <td>...</td>\n",
       "      <td>...</td>\n",
       "      <td>...</td>\n",
       "      <td>...</td>\n",
       "      <td>...</td>\n",
       "      <td>...</td>\n",
       "      <td>...</td>\n",
       "    </tr>\n",
       "    <tr>\n",
       "      <th>5905</th>\n",
       "      <td>11</td>\n",
       "      <td>13.10</td>\n",
       "      <td>67.000000</td>\n",
       "      <td>46.22</td>\n",
       "      <td>3</td>\n",
       "      <td>1</td>\n",
       "      <td>1</td>\n",
       "      <td>1</td>\n",
       "      <td>0</td>\n",
       "      <td>118996.105582</td>\n",
       "      <td>0.00</td>\n",
       "      <td>0</td>\n",
       "      <td>2020</td>\n",
       "      <td>1</td>\n",
       "      <td>1953.000000</td>\n",
       "      <td>1</td>\n",
       "      <td>0</td>\n",
       "    </tr>\n",
       "    <tr>\n",
       "      <th>5906</th>\n",
       "      <td>1</td>\n",
       "      <td>24.75</td>\n",
       "      <td>89.000000</td>\n",
       "      <td>122.18</td>\n",
       "      <td>3</td>\n",
       "      <td>2</td>\n",
       "      <td>2</td>\n",
       "      <td>1</td>\n",
       "      <td>1</td>\n",
       "      <td>196431.494516</td>\n",
       "      <td>7.42</td>\n",
       "      <td>1700000</td>\n",
       "      <td>2019</td>\n",
       "      <td>12</td>\n",
       "      <td>1930.000000</td>\n",
       "      <td>1</td>\n",
       "      <td>1</td>\n",
       "    </tr>\n",
       "    <tr>\n",
       "      <th>5907</th>\n",
       "      <td>1</td>\n",
       "      <td>29.04</td>\n",
       "      <td>73.114286</td>\n",
       "      <td>116.50</td>\n",
       "      <td>5</td>\n",
       "      <td>3</td>\n",
       "      <td>3</td>\n",
       "      <td>1</td>\n",
       "      <td>0</td>\n",
       "      <td>115450.643777</td>\n",
       "      <td>0.00</td>\n",
       "      <td>0</td>\n",
       "      <td>2019</td>\n",
       "      <td>11</td>\n",
       "      <td>1945.885714</td>\n",
       "      <td>1</td>\n",
       "      <td>0</td>\n",
       "    </tr>\n",
       "    <tr>\n",
       "      <th>5908</th>\n",
       "      <td>10</td>\n",
       "      <td>41.71</td>\n",
       "      <td>87.000000</td>\n",
       "      <td>155.03</td>\n",
       "      <td>3</td>\n",
       "      <td>2</td>\n",
       "      <td>2</td>\n",
       "      <td>1</td>\n",
       "      <td>1</td>\n",
       "      <td>243307.746888</td>\n",
       "      <td>0.00</td>\n",
       "      <td>0</td>\n",
       "      <td>2019</td>\n",
       "      <td>11</td>\n",
       "      <td>1932.000000</td>\n",
       "      <td>1</td>\n",
       "      <td>1</td>\n",
       "    </tr>\n",
       "    <tr>\n",
       "      <th>5909</th>\n",
       "      <td>10</td>\n",
       "      <td>22.36</td>\n",
       "      <td>91.375000</td>\n",
       "      <td>103.03</td>\n",
       "      <td>3</td>\n",
       "      <td>1</td>\n",
       "      <td>1</td>\n",
       "      <td>1</td>\n",
       "      <td>0</td>\n",
       "      <td>108026.788314</td>\n",
       "      <td>0.00</td>\n",
       "      <td>0</td>\n",
       "      <td>2019</td>\n",
       "      <td>8</td>\n",
       "      <td>1927.625000</td>\n",
       "      <td>1</td>\n",
       "      <td>0</td>\n",
       "    </tr>\n",
       "  </tbody>\n",
       "</table>\n",
       "<p>5767 rows × 17 columns</p>\n",
       "</div>"
      ],
      "text/plain": [
       "      district  land_shift_area  complete_year  building_shift_total_area  \\\n",
       "0           10             4.00       0.000000                       0.00   \n",
       "1            1            40.75      62.062500                     109.36   \n",
       "2            1            33.81      69.000000                     109.42   \n",
       "3            1            32.19      84.000000                     163.53   \n",
       "4            1            60.25     108.000000                     204.79   \n",
       "...        ...              ...            ...                        ...   \n",
       "5905        11            13.10      67.000000                      46.22   \n",
       "5906         1            24.75      89.000000                     122.18   \n",
       "5907         1            29.04      73.114286                     116.50   \n",
       "5908        10            41.71      87.000000                     155.03   \n",
       "5909        10            22.36      91.375000                     103.03   \n",
       "\n",
       "      num_room  num_hall  num_toilet  num_partition  management_org  \\\n",
       "0            0         0           0              1               0   \n",
       "1            4         0           4              1               0   \n",
       "2            3         2           2              1               0   \n",
       "3            3         2           2              1               1   \n",
       "4            3         2           3              1               1   \n",
       "...        ...       ...         ...            ...             ...   \n",
       "5905         3         1           1              1               0   \n",
       "5906         3         2           2              1               1   \n",
       "5907         5         3           3              1               0   \n",
       "5908         3         2           2              1               1   \n",
       "5909         3         1           1              1               0   \n",
       "\n",
       "           unit_ntd  carpark_shift_area  carpark_ntd  transaction_year  \\\n",
       "0     400000.000000                0.00            0              2019   \n",
       "1     108357.717630                0.00            0              2019   \n",
       "2      91390.970572                0.00            0              2019   \n",
       "3     128416.804256                0.00            0              2019   \n",
       "4     328157.624884                0.00            0              2019   \n",
       "...             ...                 ...          ...               ...   \n",
       "5905  118996.105582                0.00            0              2020   \n",
       "5906  196431.494516                7.42      1700000              2019   \n",
       "5907  115450.643777                0.00            0              2019   \n",
       "5908  243307.746888                0.00            0              2019   \n",
       "5909  108026.788314                0.00            0              2019   \n",
       "\n",
       "      transaction_month  building_age  number_of_building  number_of_carpark  \n",
       "0                    10   2019.000000                   0                  0  \n",
       "1                    10   1956.937500                   1                  0  \n",
       "2                    10   1950.000000                   1                  0  \n",
       "3                     4   1935.000000                   1                  1  \n",
       "4                    10   1911.000000                   1                  0  \n",
       "...                 ...           ...                 ...                ...  \n",
       "5905                  1   1953.000000                   1                  0  \n",
       "5906                 12   1930.000000                   1                  1  \n",
       "5907                 11   1945.885714                   1                  0  \n",
       "5908                 11   1932.000000                   1                  1  \n",
       "5909                  8   1927.625000                   1                  0  \n",
       "\n",
       "[5767 rows x 17 columns]"
      ]
     },
     "execution_count": 5,
     "metadata": {},
     "output_type": "execute_result"
    }
   ],
   "source": [
    "data = pd.read_csv(\"./District/NumberingDistrict.csv\")\n",
    "#data = data.drop(columns = ['district'])\n",
    "data = data.drop(columns = ['number_of_land', 'total_ntd'])\n",
    "data = data[data['unit_ntd'] > 0]\n",
    "delete = data[((data.unit_ntd > 3000000) |\n",
    "                  (data.transaction_year < 2019) |\n",
    "                  (data.land_shift_area <= 0)\n",
    "                 )].index\n",
    "data = data.drop(delete)\n",
    "data"
   ]
  },
  {
   "cell_type": "code",
   "execution_count": 3,
   "metadata": {
    "scrolled": true
   },
   "outputs": [
    {
     "data": {
      "text/plain": [
       "{'fit_time': array([0.01516843, 0.00320339, 0.        , 0.00816107, 0.0022285 ,\n",
       "        0.00645137, 0.        , 0.        , 0.        , 0.        ]),\n",
       " 'score_time': array([0.00153303, 0.        , 0.        , 0.0012157 , 0.        ,\n",
       "        0.        , 0.        , 0.        , 0.00802255, 0.        ]),\n",
       " 'test_score': array([-0.08201447,  0.08445318,  0.05337321,  0.064706  ,  0.05326801,\n",
       "         0.05176193,  0.04870703,  0.11955938,  0.08386588,  0.12597386])}"
      ]
     },
     "execution_count": 3,
     "metadata": {},
     "output_type": "execute_result"
    }
   ],
   "source": [
    "#Model\n",
    "reg = LinearRegression()\n",
    "#Data and target\n",
    "X = data.drop(columns=['unit_ntd']).values\n",
    "y = data['unit_ntd'].values\n",
    "#Cross validation\n",
    "#Score = ((y_true - y_pred) ^ 2).sum()\n",
    "predicted = cross_validate(reg, X, y, cv = 10)\n",
    "predicted"
   ]
  },
  {
   "cell_type": "code",
   "execution_count": 4,
   "metadata": {},
   "outputs": [
    {
     "data": {
      "text/plain": [
       "array([176372.73352263,  35150.38717771,  46459.69815785, ...,\n",
       "        28108.57071767,  39531.93694745,  63099.43575675])"
      ]
     },
     "metadata": {},
     "output_type": "display_data"
    },
    {
     "data": {
      "text/plain": [
       "69593.67922719572"
      ]
     },
     "metadata": {},
     "output_type": "display_data"
    }
   ],
   "source": [
    "from sklearn.model_selection import cross_val_predict\n",
    "predict_ntd = cross_val_predict(reg, X, y ,cv = 10)\n",
    "display(abs(y - predict_ntd))\n",
    "display(abs(y - predict_ntd).mean())\n",
    "#predict_ntd"
   ]
  },
  {
   "cell_type": "code",
   "execution_count": 5,
   "metadata": {},
   "outputs": [
    {
     "data": {
      "text/plain": [
       "{'fit_time': array([0.05143881, 0.07349348, 0.05563211, 0.05501342, 0.05323124,\n",
       "        0.05030656, 0.05519295, 0.05123925, 0.05476451, 0.05188847]),\n",
       " 'score_time': array([0.        , 0.00099826, 0.00104237, 0.00106168, 0.        ,\n",
       "        0.00737333, 0.00166297, 0.0062921 , 0.00144935, 0.        ]),\n",
       " 'test_score': array([-0.32325129, -0.12096555, -0.09079942, -0.19067624, -0.96220957,\n",
       "        -0.04286785, -0.48465206, -0.2686627 ,  0.08808011, -0.75690529])}"
      ]
     },
     "execution_count": 5,
     "metadata": {},
     "output_type": "execute_result"
    }
   ],
   "source": [
    "#Model\n",
    "reg = DecisionTreeRegressor()\n",
    "#Data and target\n",
    "X = data.drop(columns=['unit_ntd']).values\n",
    "y = data['unit_ntd'].values\n",
    "#Cross validation\n",
    "#Score = ((y_true - y_pred) ^ 2).sum()\n",
    "predicted = cross_validate(reg, X, y, cv = 10)\n",
    "predicted"
   ]
  },
  {
   "cell_type": "code",
   "execution_count": 6,
   "metadata": {},
   "outputs": [
    {
     "data": {
      "text/plain": [
       "array([205000.        ,  10926.36244827,  18410.07578262, ...,\n",
       "        39755.99762365, 129771.73074035, 145360.32514129])"
      ]
     },
     "metadata": {},
     "output_type": "display_data"
    },
    {
     "data": {
      "text/plain": [
       "66189.41943921825"
      ]
     },
     "metadata": {},
     "output_type": "display_data"
    }
   ],
   "source": [
    "from sklearn.model_selection import cross_val_predict\n",
    "predict_ntd = cross_val_predict(reg, X, y ,cv = 10)\n",
    "display(abs(y - predict_ntd))\n",
    "display(abs(y - predict_ntd).mean())\n",
    "#predict_ntd"
   ]
  },
  {
   "cell_type": "code",
   "execution_count": null,
   "metadata": {},
   "outputs": [
    {
     "data": {
      "text/plain": [
       "array([2158387.13928054,  202083.33333333])"
      ]
     },
     "execution_count": 7,
     "metadata": {},
     "output_type": "execute_result"
    }
   ],
   "source": [
    "# Predict for real house\n",
    "reg = DecisionTreeRegressor()\n",
    "X = data.drop(columns=['unit_ntd']).values\n",
    "y = data['unit_ntd'].values\n",
    "reg.fit(X, y)\n",
    "\n",
    "\n",
    "test = [[12, 321.7, 5.0, 163.0, 4, 2, 3, 1, 1, 24.8, 0, 2020, 12, 2015, 1, 2],\n",
    "        [8, 13.88, 14, 12.16, 1, 1, 1, 1, 0, 0, 0,2020, 11, 2006, 1, 0]]\n",
    "reg.predict(test)"
   ]
  },
  {
   "cell_type": "code",
   "execution_count": 6,
   "metadata": {},
   "outputs": [],
   "source": [
    "from sklearn.svm import SVR\n",
    "#Model\n",
    "reg = SVR(kernel='rbf', C=1e3, gamma=0.1)\n",
    "#Data and target\n",
    "X = data.drop(columns=['unit_ntd']).values\n",
    "y = data['unit_ntd'].values\n",
    "#Cross validation\n",
    "#Score = ((y_true - y_pred) ^ 2).sum()\n",
    "predicted = cross_validate(reg, X, y, cv = 10)\n"
   ]
  },
  {
   "cell_type": "code",
   "execution_count": 7,
   "metadata": {},
   "outputs": [
    {
     "data": {
      "text/plain": [
       "array([232404.71136066,  57276.42413281,  73398.12657615, ...,\n",
       "        49802.83900687,  77456.81781119,  57971.38424586])"
      ]
     },
     "metadata": {},
     "output_type": "display_data"
    },
    {
     "data": {
      "text/plain": [
       "71524.045416027"
      ]
     },
     "metadata": {},
     "output_type": "display_data"
    }
   ],
   "source": [
    "\n",
    "from sklearn.model_selection import cross_val_predict\n",
    "predict_ntd = cross_val_predict(reg, X, y ,cv = 10)\n",
    "display(abs(y - predict_ntd))\n",
    "display(abs(y - predict_ntd).mean())\n",
    "#predict_ntd"
   ]
  },
  {
   "cell_type": "code",
   "execution_count": null,
   "metadata": {},
   "outputs": [],
   "source": []
  }
 ],
 "metadata": {
  "kernelspec": {
   "display_name": "Python 3",
   "language": "python",
   "name": "python3"
  },
  "language_info": {
   "codemirror_mode": {
    "name": "ipython",
    "version": 3
   },
   "file_extension": ".py",
   "mimetype": "text/x-python",
   "name": "python",
   "nbconvert_exporter": "python",
   "pygments_lexer": "ipython3",
   "version": "3.6.4"
  }
 },
 "nbformat": 4,
 "nbformat_minor": 2
}
