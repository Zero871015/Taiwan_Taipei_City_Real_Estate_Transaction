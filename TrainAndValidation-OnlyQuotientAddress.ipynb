{
 "cells": [
  {
   "cell_type": "code",
   "execution_count": 1,
   "metadata": {},
   "outputs": [],
   "source": [
    "import pandas as pd  \n",
    "import numpy as np\n",
    "from sklearn.model_selection import train_test_split \n",
    "from sklearn.linear_model import LinearRegression\n",
    "from sklearn.ensemble import RandomForestRegressor\n",
    "from sklearn.model_selection import cross_validate\n",
    "from sklearn.tree import DecisionTreeRegressor\n",
    "from sklearn import metrics\n",
    "import matplotlib.pyplot as plt"
   ]
  },
  {
   "cell_type": "code",
   "execution_count": 2,
   "metadata": {},
   "outputs": [
    {
     "data": {
      "text/html": [
       "<div>\n",
       "<style scoped>\n",
       "    .dataframe tbody tr th:only-of-type {\n",
       "        vertical-align: middle;\n",
       "    }\n",
       "\n",
       "    .dataframe tbody tr th {\n",
       "        vertical-align: top;\n",
       "    }\n",
       "\n",
       "    .dataframe thead th {\n",
       "        text-align: right;\n",
       "    }\n",
       "</style>\n",
       "<table border=\"1\" class=\"dataframe\">\n",
       "  <thead>\n",
       "    <tr style=\"text-align: right;\">\n",
       "      <th></th>\n",
       "      <th>district</th>\n",
       "      <th>land_shift_area</th>\n",
       "      <th>complete_year</th>\n",
       "      <th>building_shift_total_area</th>\n",
       "      <th>num_room</th>\n",
       "      <th>num_hall</th>\n",
       "      <th>num_toilet</th>\n",
       "      <th>num_partition</th>\n",
       "      <th>management_org</th>\n",
       "      <th>unit_ntd</th>\n",
       "      <th>carpark_shift_area</th>\n",
       "      <th>carpark_ntd</th>\n",
       "      <th>transaction_year</th>\n",
       "      <th>transaction_month</th>\n",
       "      <th>building_age</th>\n",
       "      <th>number_of_building</th>\n",
       "      <th>number_of_carpark</th>\n",
       "    </tr>\n",
       "  </thead>\n",
       "  <tbody>\n",
       "    <tr>\n",
       "      <th>0</th>\n",
       "      <td>1</td>\n",
       "      <td>40.75</td>\n",
       "      <td>62.062500</td>\n",
       "      <td>109.36</td>\n",
       "      <td>4</td>\n",
       "      <td>0</td>\n",
       "      <td>4</td>\n",
       "      <td>1</td>\n",
       "      <td>0</td>\n",
       "      <td>108357.717630</td>\n",
       "      <td>0.00</td>\n",
       "      <td>0</td>\n",
       "      <td>2019</td>\n",
       "      <td>10</td>\n",
       "      <td>1956.937500</td>\n",
       "      <td>1</td>\n",
       "      <td>0</td>\n",
       "    </tr>\n",
       "    <tr>\n",
       "      <th>1</th>\n",
       "      <td>1</td>\n",
       "      <td>33.81</td>\n",
       "      <td>69.000000</td>\n",
       "      <td>109.42</td>\n",
       "      <td>3</td>\n",
       "      <td>2</td>\n",
       "      <td>2</td>\n",
       "      <td>1</td>\n",
       "      <td>0</td>\n",
       "      <td>91390.970572</td>\n",
       "      <td>0.00</td>\n",
       "      <td>0</td>\n",
       "      <td>2019</td>\n",
       "      <td>10</td>\n",
       "      <td>1950.000000</td>\n",
       "      <td>1</td>\n",
       "      <td>0</td>\n",
       "    </tr>\n",
       "    <tr>\n",
       "      <th>2</th>\n",
       "      <td>1</td>\n",
       "      <td>32.19</td>\n",
       "      <td>84.000000</td>\n",
       "      <td>163.53</td>\n",
       "      <td>3</td>\n",
       "      <td>2</td>\n",
       "      <td>2</td>\n",
       "      <td>1</td>\n",
       "      <td>1</td>\n",
       "      <td>128416.804256</td>\n",
       "      <td>0.00</td>\n",
       "      <td>0</td>\n",
       "      <td>2019</td>\n",
       "      <td>4</td>\n",
       "      <td>1935.000000</td>\n",
       "      <td>1</td>\n",
       "      <td>1</td>\n",
       "    </tr>\n",
       "    <tr>\n",
       "      <th>3</th>\n",
       "      <td>1</td>\n",
       "      <td>60.25</td>\n",
       "      <td>108.000000</td>\n",
       "      <td>204.79</td>\n",
       "      <td>3</td>\n",
       "      <td>2</td>\n",
       "      <td>3</td>\n",
       "      <td>1</td>\n",
       "      <td>1</td>\n",
       "      <td>328157.624884</td>\n",
       "      <td>0.00</td>\n",
       "      <td>0</td>\n",
       "      <td>2019</td>\n",
       "      <td>10</td>\n",
       "      <td>1911.000000</td>\n",
       "      <td>1</td>\n",
       "      <td>0</td>\n",
       "    </tr>\n",
       "    <tr>\n",
       "      <th>4</th>\n",
       "      <td>1</td>\n",
       "      <td>16.99</td>\n",
       "      <td>108.000000</td>\n",
       "      <td>80.31</td>\n",
       "      <td>3</td>\n",
       "      <td>2</td>\n",
       "      <td>2</td>\n",
       "      <td>1</td>\n",
       "      <td>1</td>\n",
       "      <td>138214.419126</td>\n",
       "      <td>16.80</td>\n",
       "      <td>750000</td>\n",
       "      <td>2019</td>\n",
       "      <td>7</td>\n",
       "      <td>1911.000000</td>\n",
       "      <td>1</td>\n",
       "      <td>1</td>\n",
       "    </tr>\n",
       "    <tr>\n",
       "      <th>...</th>\n",
       "      <td>...</td>\n",
       "      <td>...</td>\n",
       "      <td>...</td>\n",
       "      <td>...</td>\n",
       "      <td>...</td>\n",
       "      <td>...</td>\n",
       "      <td>...</td>\n",
       "      <td>...</td>\n",
       "      <td>...</td>\n",
       "      <td>...</td>\n",
       "      <td>...</td>\n",
       "      <td>...</td>\n",
       "      <td>...</td>\n",
       "      <td>...</td>\n",
       "      <td>...</td>\n",
       "      <td>...</td>\n",
       "      <td>...</td>\n",
       "    </tr>\n",
       "    <tr>\n",
       "      <th>3453</th>\n",
       "      <td>11</td>\n",
       "      <td>13.10</td>\n",
       "      <td>67.000000</td>\n",
       "      <td>46.22</td>\n",
       "      <td>3</td>\n",
       "      <td>1</td>\n",
       "      <td>1</td>\n",
       "      <td>1</td>\n",
       "      <td>0</td>\n",
       "      <td>118996.105582</td>\n",
       "      <td>0.00</td>\n",
       "      <td>0</td>\n",
       "      <td>2020</td>\n",
       "      <td>1</td>\n",
       "      <td>1953.000000</td>\n",
       "      <td>1</td>\n",
       "      <td>0</td>\n",
       "    </tr>\n",
       "    <tr>\n",
       "      <th>3454</th>\n",
       "      <td>1</td>\n",
       "      <td>24.75</td>\n",
       "      <td>89.000000</td>\n",
       "      <td>122.18</td>\n",
       "      <td>3</td>\n",
       "      <td>2</td>\n",
       "      <td>2</td>\n",
       "      <td>1</td>\n",
       "      <td>1</td>\n",
       "      <td>196431.494516</td>\n",
       "      <td>7.42</td>\n",
       "      <td>1700000</td>\n",
       "      <td>2019</td>\n",
       "      <td>12</td>\n",
       "      <td>1930.000000</td>\n",
       "      <td>1</td>\n",
       "      <td>1</td>\n",
       "    </tr>\n",
       "    <tr>\n",
       "      <th>3455</th>\n",
       "      <td>1</td>\n",
       "      <td>29.04</td>\n",
       "      <td>73.114286</td>\n",
       "      <td>116.50</td>\n",
       "      <td>5</td>\n",
       "      <td>3</td>\n",
       "      <td>3</td>\n",
       "      <td>1</td>\n",
       "      <td>0</td>\n",
       "      <td>115450.643777</td>\n",
       "      <td>0.00</td>\n",
       "      <td>0</td>\n",
       "      <td>2019</td>\n",
       "      <td>11</td>\n",
       "      <td>1945.885714</td>\n",
       "      <td>1</td>\n",
       "      <td>0</td>\n",
       "    </tr>\n",
       "    <tr>\n",
       "      <th>3456</th>\n",
       "      <td>10</td>\n",
       "      <td>41.71</td>\n",
       "      <td>87.000000</td>\n",
       "      <td>155.03</td>\n",
       "      <td>3</td>\n",
       "      <td>2</td>\n",
       "      <td>2</td>\n",
       "      <td>1</td>\n",
       "      <td>1</td>\n",
       "      <td>243307.746888</td>\n",
       "      <td>0.00</td>\n",
       "      <td>0</td>\n",
       "      <td>2019</td>\n",
       "      <td>11</td>\n",
       "      <td>1932.000000</td>\n",
       "      <td>1</td>\n",
       "      <td>1</td>\n",
       "    </tr>\n",
       "    <tr>\n",
       "      <th>3457</th>\n",
       "      <td>10</td>\n",
       "      <td>22.36</td>\n",
       "      <td>91.375000</td>\n",
       "      <td>103.03</td>\n",
       "      <td>3</td>\n",
       "      <td>1</td>\n",
       "      <td>1</td>\n",
       "      <td>1</td>\n",
       "      <td>0</td>\n",
       "      <td>108026.788314</td>\n",
       "      <td>0.00</td>\n",
       "      <td>0</td>\n",
       "      <td>2019</td>\n",
       "      <td>8</td>\n",
       "      <td>1927.625000</td>\n",
       "      <td>1</td>\n",
       "      <td>0</td>\n",
       "    </tr>\n",
       "  </tbody>\n",
       "</table>\n",
       "<p>3376 rows × 17 columns</p>\n",
       "</div>"
      ],
      "text/plain": [
       "      district  land_shift_area  complete_year  building_shift_total_area  \\\n",
       "0            1            40.75      62.062500                     109.36   \n",
       "1            1            33.81      69.000000                     109.42   \n",
       "2            1            32.19      84.000000                     163.53   \n",
       "3            1            60.25     108.000000                     204.79   \n",
       "4            1            16.99     108.000000                      80.31   \n",
       "...        ...              ...            ...                        ...   \n",
       "3453        11            13.10      67.000000                      46.22   \n",
       "3454         1            24.75      89.000000                     122.18   \n",
       "3455         1            29.04      73.114286                     116.50   \n",
       "3456        10            41.71      87.000000                     155.03   \n",
       "3457        10            22.36      91.375000                     103.03   \n",
       "\n",
       "      num_room  num_hall  num_toilet  num_partition  management_org  \\\n",
       "0            4         0           4              1               0   \n",
       "1            3         2           2              1               0   \n",
       "2            3         2           2              1               1   \n",
       "3            3         2           3              1               1   \n",
       "4            3         2           2              1               1   \n",
       "...        ...       ...         ...            ...             ...   \n",
       "3453         3         1           1              1               0   \n",
       "3454         3         2           2              1               1   \n",
       "3455         5         3           3              1               0   \n",
       "3456         3         2           2              1               1   \n",
       "3457         3         1           1              1               0   \n",
       "\n",
       "           unit_ntd  carpark_shift_area  carpark_ntd  transaction_year  \\\n",
       "0     108357.717630                0.00            0              2019   \n",
       "1      91390.970572                0.00            0              2019   \n",
       "2     128416.804256                0.00            0              2019   \n",
       "3     328157.624884                0.00            0              2019   \n",
       "4     138214.419126               16.80       750000              2019   \n",
       "...             ...                 ...          ...               ...   \n",
       "3453  118996.105582                0.00            0              2020   \n",
       "3454  196431.494516                7.42      1700000              2019   \n",
       "3455  115450.643777                0.00            0              2019   \n",
       "3456  243307.746888                0.00            0              2019   \n",
       "3457  108026.788314                0.00            0              2019   \n",
       "\n",
       "      transaction_month  building_age  number_of_building  number_of_carpark  \n",
       "0                    10   1956.937500                   1                  0  \n",
       "1                    10   1950.000000                   1                  0  \n",
       "2                     4   1935.000000                   1                  1  \n",
       "3                    10   1911.000000                   1                  0  \n",
       "4                     7   1911.000000                   1                  1  \n",
       "...                 ...           ...                 ...                ...  \n",
       "3453                  1   1953.000000                   1                  0  \n",
       "3454                 12   1930.000000                   1                  1  \n",
       "3455                 11   1945.885714                   1                  0  \n",
       "3456                 11   1932.000000                   1                  1  \n",
       "3457                  8   1927.625000                   1                  0  \n",
       "\n",
       "[3376 rows x 17 columns]"
      ]
     },
     "execution_count": 2,
     "metadata": {},
     "output_type": "execute_result"
    }
   ],
   "source": [
    "data = pd.read_csv(\"./District/NumberingDistrictAddress.csv\")\n",
    "#data = data.drop(columns = ['district'])\n",
    "data = data.drop(columns = ['urban_land_use', 'number_of_land', 'total_ntd'])\n",
    "data = data[data['unit_ntd'] > 0]\n",
    "delete = data[((data.unit_ntd > 3000000) | \n",
    "               (data.transaction_year < 2019) | \n",
    "               (data.land_shift_area <= 0)\n",
    "              )].index\n",
    "data = data.drop(delete)\n",
    "data"
   ]
  },
  {
   "cell_type": "code",
   "execution_count": 3,
   "metadata": {
    "scrolled": true
   },
   "outputs": [
    {
     "data": {
      "text/plain": [
       "{'fit_time': array([0.0339942 , 0.00160694, 0.00199604, 0.00684309, 0.00142622,\n",
       "        0.00099874, 0.        , 0.00905132, 0.00252628, 0.        ]),\n",
       " 'score_time': array([0.00083184, 0.00104952, 0.        , 0.00204754, 0.00108004,\n",
       "        0.        , 0.        , 0.00099444, 0.        , 0.0080018 ]),\n",
       " 'test_score': array([ 0.12436502, -0.04210082,  0.16285156,  0.10781113,  0.18085914,\n",
       "         0.1569336 ,  0.10890353,  0.04058648,  0.16353941,  0.20644658])}"
      ]
     },
     "execution_count": 3,
     "metadata": {},
     "output_type": "execute_result"
    }
   ],
   "source": [
    "#Model\n",
    "reg = LinearRegression()\n",
    "#Data and target\n",
    "X = data.drop(columns=['unit_ntd']).values\n",
    "y = data['unit_ntd'].values\n",
    "#Cross validation\n",
    "#Score = ((y_true - y_pred) ^ 2).sum()\n",
    "predicted = cross_validate(reg, X, y, cv = 10)\n",
    "predicted"
   ]
  },
  {
   "cell_type": "code",
   "execution_count": 4,
   "metadata": {},
   "outputs": [
    {
     "data": {
      "text/plain": [
       "array([31980.23047578, 31298.88117345, 11383.1007883 , ...,\n",
       "        4453.41894273, 24321.61121922, 62162.49683696])"
      ]
     },
     "metadata": {},
     "output_type": "display_data"
    },
    {
     "data": {
      "text/plain": [
       "57587.36758795225"
      ]
     },
     "metadata": {},
     "output_type": "display_data"
    }
   ],
   "source": [
    "from sklearn.model_selection import cross_val_predict\n",
    "predict_ntd = cross_val_predict(reg, X, y ,cv = 10)\n",
    "display(abs(y - predict_ntd))\n",
    "display(abs(y - predict_ntd).mean())\n",
    "#predict_ntd"
   ]
  },
  {
   "cell_type": "code",
   "execution_count": 5,
   "metadata": {},
   "outputs": [
    {
     "data": {
      "text/plain": [
       "{'fit_time': array([0.05153966, 0.06616378, 0.0625391 , 0.03433299, 0.04682875,\n",
       "        0.0464673 , 0.04690099, 0.04429555, 0.04947972, 0.05045891]),\n",
       " 'score_time': array([0.        , 0.00099659, 0.        , 0.01562047, 0.        ,\n",
       "        0.        , 0.        , 0.        , 0.        , 0.        ]),\n",
       " 'test_score': array([-0.36677455,  0.10588026,  0.13761009,  0.00331833,  0.25372464,\n",
       "         0.00575515, -0.28103862, -0.17299845,  0.36205757,  0.42790434])}"
      ]
     },
     "execution_count": 5,
     "metadata": {},
     "output_type": "execute_result"
    }
   ],
   "source": [
    "#Model\n",
    "reg = DecisionTreeRegressor()\n",
    "#Data and target\n",
    "X = data.drop(columns=['unit_ntd']).values\n",
    "y = data['unit_ntd'].values\n",
    "#Cross validation\n",
    "#Score = ((y_true - y_pred) ^ 2).sum()\n",
    "predicted = cross_validate(reg, X, y, cv = 10)\n",
    "predicted"
   ]
  },
  {
   "cell_type": "code",
   "execution_count": 6,
   "metadata": {},
   "outputs": [
    {
     "data": {
      "text/plain": [
       "array([ 12467.30667094,  31261.71086927,  41714.73424418, ...,\n",
       "        20440.47185923,  90881.51279457, 110158.43502143])"
      ]
     },
     "metadata": {},
     "output_type": "display_data"
    },
    {
     "data": {
      "text/plain": [
       "54733.63218508309"
      ]
     },
     "metadata": {},
     "output_type": "display_data"
    }
   ],
   "source": [
    "from sklearn.model_selection import cross_val_predict\n",
    "predict_ntd = cross_val_predict(reg, X, y ,cv = 10)\n",
    "display(abs(y - predict_ntd))\n",
    "display(abs(y - predict_ntd).mean())\n",
    "#predict_ntd"
   ]
  },
  {
   "cell_type": "code",
   "execution_count": 7,
   "metadata": {},
   "outputs": [
    {
     "data": {
      "text/plain": [
       "array([1933333.33333333,  276000.        ])"
      ]
     },
     "execution_count": 7,
     "metadata": {},
     "output_type": "execute_result"
    }
   ],
   "source": [
    "# Predict for real house\n",
    "reg = DecisionTreeRegressor()\n",
    "X = data.drop(columns=['unit_ntd']).values\n",
    "y = data['unit_ntd'].values\n",
    "reg.fit(X, y)\n",
    "\n",
    "\n",
    "test = [[12, 321.7, 5.0, 163.0, 4, 2, 3, 1, 1, 24.8, 0, 2020, 12, 2015, 1, 2],\n",
    "        [8, 13.88, 14, 12.16, 1, 1, 1, 1, 0, 0, 0,2020, 11, 2006, 1, 0]]\n",
    "reg.predict(test)"
   ]
  },
  {
   "cell_type": "code",
   "execution_count": 8,
   "metadata": {},
   "outputs": [],
   "source": [
    "from sklearn.svm import SVR\n",
    "#Model\n",
    "reg = SVR(kernel='rbf', C=1e3, gamma=0.1)\n",
    "#Data and target\n",
    "X = data.drop(columns=['unit_ntd']).values\n",
    "y = data['unit_ntd'].values\n",
    "#Cross validation\n",
    "#Score = ((y_true - y_pred) ^ 2).sum()\n",
    "predicted = cross_validate(reg, X, y, cv = 10)\n"
   ]
  },
  {
   "cell_type": "code",
   "execution_count": 9,
   "metadata": {},
   "outputs": [
    {
     "data": {
      "text/plain": [
       "array([52639.19471057, 69111.16342624, 33534.49466419, ...,\n",
       "       44467.34594942, 82748.88423521, 52636.14639535])"
      ]
     },
     "metadata": {},
     "output_type": "display_data"
    },
    {
     "data": {
      "text/plain": [
       "61136.874789049834"
      ]
     },
     "metadata": {},
     "output_type": "display_data"
    }
   ],
   "source": [
    "from sklearn.model_selection import cross_val_predict\n",
    "predict_ntd = cross_val_predict(reg, X, y ,cv = 10)\n",
    "display(abs(y - predict_ntd))\n",
    "display(abs(y - predict_ntd).mean())\n",
    "#predict_ntd"
   ]
  },
  {
   "cell_type": "code",
   "execution_count": null,
   "metadata": {},
   "outputs": [],
   "source": []
  }
 ],
 "metadata": {
  "kernelspec": {
   "display_name": "Python 3",
   "language": "python",
   "name": "python3"
  },
  "language_info": {
   "codemirror_mode": {
    "name": "ipython",
    "version": 3
   },
   "file_extension": ".py",
   "mimetype": "text/x-python",
   "name": "python",
   "nbconvert_exporter": "python",
   "pygments_lexer": "ipython3",
   "version": "3.6.4"
  }
 },
 "nbformat": 4,
 "nbformat_minor": 2
}
